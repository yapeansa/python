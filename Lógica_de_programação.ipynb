{
  "nbformat": 4,
  "nbformat_minor": 0,
  "metadata": {
    "colab": {
      "provenance": [],
      "collapsed_sections": [
        "Y4lZri2iDGNR",
        "bf5mEtYLGfOG",
        "FU2EWW-F5umW"
      ],
      "authorship_tag": "ABX9TyOdDbS0bdgzmCeLih/RC05O",
      "include_colab_link": true
    },
    "kernelspec": {
      "name": "python3",
      "display_name": "Python 3"
    },
    "language_info": {
      "name": "python"
    }
  },
  "cells": [
    {
      "cell_type": "markdown",
      "metadata": {
        "id": "view-in-github",
        "colab_type": "text"
      },
      "source": [
        "<a href=\"https://colab.research.google.com/github/yapeansa/python/blob/main/L%C3%B3gica_de_programa%C3%A7%C3%A3o.ipynb\" target=\"_parent\"><img src=\"https://colab.research.google.com/assets/colab-badge.svg\" alt=\"Open In Colab\"/></a>"
      ]
    },
    {
      "cell_type": "markdown",
      "source": [
        "## Lógica de programação com Python"
      ],
      "metadata": {
        "id": "Y4lZri2iDGNR"
      }
    },
    {
      "cell_type": "code",
      "execution_count": null,
      "metadata": {
        "id": "GbGpX17c9Ck1"
      },
      "outputs": [],
      "source": [
        "nome = \"Yago\""
      ]
    },
    {
      "cell_type": "code",
      "source": [
        "nome"
      ],
      "metadata": {
        "colab": {
          "base_uri": "https://localhost:8080/",
          "height": 35
        },
        "id": "PPBy_LRoDJJl",
        "outputId": "37ef9d81-ac67-4396-b9fb-01ee0f9b651e"
      },
      "execution_count": null,
      "outputs": [
        {
          "output_type": "execute_result",
          "data": {
            "text/plain": [
              "'Yago'"
            ],
            "application/vnd.google.colaboratory.intrinsic+json": {
              "type": "string"
            }
          },
          "metadata": {},
          "execution_count": 14
        }
      ]
    },
    {
      "cell_type": "code",
      "source": [
        "idade = 29"
      ],
      "metadata": {
        "id": "_VR0bqceERI1"
      },
      "execution_count": null,
      "outputs": []
    },
    {
      "cell_type": "code",
      "source": [
        "idade"
      ],
      "metadata": {
        "colab": {
          "base_uri": "https://localhost:8080/"
        },
        "id": "rHJCmNA4EThO",
        "outputId": "11ee262d-602d-4145-8a54-4eb61edf56d9"
      },
      "execution_count": null,
      "outputs": [
        {
          "output_type": "execute_result",
          "data": {
            "text/plain": [
              "29"
            ]
          },
          "metadata": {},
          "execution_count": 16
        }
      ]
    },
    {
      "cell_type": "code",
      "source": [
        "print(f'O nome é {nome} e a idade é {idade}.')"
      ],
      "metadata": {
        "colab": {
          "base_uri": "https://localhost:8080/"
        },
        "id": "l8KmlNmpEaup",
        "outputId": "03ce65af-8389-422c-a202-9b019dc18dda"
      },
      "execution_count": null,
      "outputs": [
        {
          "output_type": "stream",
          "name": "stdout",
          "text": [
            "O nome é Yago e a idade é 29.\n"
          ]
        }
      ]
    },
    {
      "cell_type": "markdown",
      "source": [
        "## Criando minha primeira função"
      ],
      "metadata": {
        "id": "bf5mEtYLGfOG"
      }
    },
    {
      "cell_type": "code",
      "source": [
        "def saudacao():\n",
        "  nome = input('Qual é o seu nome? ')\n",
        "  print(f'Olá, {nome}.')"
      ],
      "metadata": {
        "id": "RagOh_bEGvoX"
      },
      "execution_count": null,
      "outputs": []
    },
    {
      "cell_type": "code",
      "source": [
        "saudacao()"
      ],
      "metadata": {
        "colab": {
          "base_uri": "https://localhost:8080/"
        },
        "id": "SaisR4dkHnXX",
        "outputId": "14bb2a24-e263-43c2-a17b-37d5bb8b11bb"
      },
      "execution_count": null,
      "outputs": [
        {
          "output_type": "stream",
          "name": "stdout",
          "text": [
            "Qual é o seu nome? Yago\n",
            "Olá, Yago.\n"
          ]
        }
      ]
    },
    {
      "cell_type": "code",
      "source": [
        "def nome_completo():\n",
        "  primeiro_nome = input('Qual é o seu primeiro nome? ')\n",
        "  sobrenome = input('Qual é o seu sobrenome? ')\n",
        "  nome_inteiro = primeiro_nome + ' ' + sobrenome\n",
        "  print(nome_inteiro)"
      ],
      "metadata": {
        "id": "kuPwmX3EH-RG"
      },
      "execution_count": null,
      "outputs": []
    },
    {
      "cell_type": "code",
      "source": [
        "nome_completo()"
      ],
      "metadata": {
        "colab": {
          "base_uri": "https://localhost:8080/"
        },
        "id": "6tY7Y7gkPIJz",
        "outputId": "f389f3b9-f35d-48b4-ce86-1179a2ec87c4"
      },
      "execution_count": null,
      "outputs": [
        {
          "output_type": "stream",
          "name": "stdout",
          "text": [
            "Qual é o seu primeiro nome? Yago\n",
            "Qual é o seu sobrenome? Pereira\n",
            "Yago Pereira\n"
          ]
        }
      ]
    },
    {
      "cell_type": "markdown",
      "source": [
        "## Parâmetros"
      ],
      "metadata": {
        "id": "FU2EWW-F5umW"
      }
    },
    {
      "cell_type": "code",
      "source": [
        "nome = 'Luiza'"
      ],
      "metadata": {
        "id": "vT-Xu0cWPKKl"
      },
      "execution_count": null,
      "outputs": []
    },
    {
      "cell_type": "code",
      "source": [
        "def saudacao_com_parametros(nome_da_pessoa):\n",
        "  print(f'Olá, {nome_da_pessoa}')"
      ],
      "metadata": {
        "id": "vuGsFxXZ49uu"
      },
      "execution_count": null,
      "outputs": []
    },
    {
      "cell_type": "code",
      "source": [
        "saudacao_com_parametros(nome)"
      ],
      "metadata": {
        "colab": {
          "base_uri": "https://localhost:8080/"
        },
        "id": "xa82d7sI5jQ4",
        "outputId": "149e631f-4d6c-4181-c1f9-cb2b28096727"
      },
      "execution_count": null,
      "outputs": [
        {
          "output_type": "stream",
          "name": "stdout",
          "text": [
            "Olá, Luiza\n"
          ]
        }
      ]
    },
    {
      "cell_type": "markdown",
      "source": [
        "## Condicional"
      ],
      "metadata": {
        "id": "rT5hIuLR6giW"
      }
    },
    {
      "cell_type": "code",
      "source": [
        "idade = 20\n",
        "\n",
        "def verifica_se_pode_dirigir(idade):\n",
        "  if idade >= 18:\n",
        "    print('Tem permissão para dirigir.')\n",
        "  else:\n",
        "    print('Não tem permissão para dirigir.')\n",
        "\n",
        "verifica_se_pode_dirigir(idade)"
      ],
      "metadata": {
        "colab": {
          "base_uri": "https://localhost:8080/"
        },
        "id": "eNjtk3_m6ihZ",
        "outputId": "de91d7d9-9b47-4a24-fdd4-56f62d6b007a"
      },
      "execution_count": null,
      "outputs": [
        {
          "output_type": "stream",
          "name": "stdout",
          "text": [
            "Tem permissão para dirigir.\n"
          ]
        }
      ]
    },
    {
      "cell_type": "markdown",
      "source": [
        "## Convertendo tipo para inteiro"
      ],
      "metadata": {
        "id": "4UcovtNb94_B"
      }
    },
    {
      "cell_type": "code",
      "source": [
        "def verifica_se_pode_dirigir_sem_parametros():\n",
        "  idade = input('Qual é a sua idade? ')\n",
        "  idade = int(idade)\n",
        "  if idade >= 18:\n",
        "    print('Tem permissão para dirigir.')\n",
        "  else:\n",
        "    print('Não tem permissão para dirigir.')\n",
        "\n",
        "verifica_se_pode_dirigir_sem_parametros()"
      ],
      "metadata": {
        "colab": {
          "base_uri": "https://localhost:8080/"
        },
        "id": "zj4egpuy7DGa",
        "outputId": "c3f83c99-2f9d-4209-afbd-95ea0585902c"
      },
      "execution_count": null,
      "outputs": [
        {
          "output_type": "stream",
          "name": "stdout",
          "text": [
            "Qual é a sua idade? 12\n",
            "Não tem permissão para dirigir.\n"
          ]
        }
      ]
    },
    {
      "cell_type": "markdown",
      "source": [
        "## Calculando velocidade média"
      ],
      "metadata": {
        "id": "KlA0nRfp_K0w"
      }
    },
    {
      "cell_type": "code",
      "source": [
        "def velocidade(espaco, tempo):\n",
        "  v = espaco / tempo\n",
        "  print(f'Velocidade : {v} m / s')\n",
        "\n",
        "velocidade(100, 20)"
      ],
      "metadata": {
        "colab": {
          "base_uri": "https://localhost:8080/"
        },
        "id": "xpYO7zRH9Wfk",
        "outputId": "ec97ae49-6394-4f7f-e1fc-d5b1da875768"
      },
      "execution_count": null,
      "outputs": [
        {
          "output_type": "stream",
          "name": "stdout",
          "text": [
            "Velocidade : 5.0 m / s\n"
          ]
        }
      ]
    },
    {
      "cell_type": "markdown",
      "source": [
        "## Habilitação e TypeError"
      ],
      "metadata": {
        "id": "9EI9AZli_6mJ"
      }
    },
    {
      "cell_type": "code",
      "source": [
        "def habilitacao():\n",
        "  idade = input('Qual é a sua idade? ')\n",
        "  idade = int(idade)\n",
        "  if idade >= 18:\n",
        "    print('Pode tirar habilitação.')\n",
        "  else:\n",
        "    tempo = 18 - idade\n",
        "    print(f'Calma... Espere {tempo} ano(s) para tirar a habilitação.')\n",
        "\n",
        "habilitacao()"
      ],
      "metadata": {
        "colab": {
          "base_uri": "https://localhost:8080/"
        },
        "id": "Boq2_HZ9__O8",
        "outputId": "162edf00-33b8-4278-c297-7832bfad031c"
      },
      "execution_count": null,
      "outputs": [
        {
          "output_type": "stream",
          "name": "stdout",
          "text": [
            "Qual é a sua idade? 12\n",
            "Calma... Espere 6 ano(s) para tirar a habilitação.\n"
          ]
        }
      ]
    },
    {
      "cell_type": "markdown",
      "source": [
        "## Verifica se um número é primo"
      ],
      "metadata": {
        "id": "nTtxLabcK8wO"
      }
    },
    {
      "cell_type": "code",
      "source": [
        "import math\n",
        "\n",
        "# função que verifica se um número é primo\n",
        "def numero_e_primo(numero):\n",
        "  # Variável de controle\n",
        "  teste = True\n",
        "  # Por definição, o número 1 (e seu simétrico) não é primo\n",
        "  if numero == 1 or numero == -1:\n",
        "    teste = False\n",
        "  # Armazena o valor absoluto da variável numero na variável n e converte este valor para inteiro\n",
        "  n = int(math.fabs(numero))\n",
        "  # Verifica se n possui algum divisor entre 2 e n-1\n",
        "  for i in range(2, n):\n",
        "    if n % i == 0:\n",
        "      teste = False\n",
        "  # Retorna o resultado: Verdadeiro ou Falso\n",
        "  return teste\n",
        "\n",
        "while True:\n",
        "  entrada = input('Digite um número inteiro diferente de zero: ')\n",
        "  entrada = int(entrada)\n",
        "  if entrada != 0: break # Encerra a iteração caso entrada seja diferente de zero\n",
        "\n",
        "if numero_e_primo(entrada):\n",
        "  print(f'O número {entrada} é primo.')\n",
        "else:\n",
        "  print(f'O número {entrada} não é primo')\n"
      ],
      "metadata": {
        "id": "5EPMA0eXCW75",
        "colab": {
          "base_uri": "https://localhost:8080/"
        },
        "outputId": "7a368f10-5727-405d-b030-6b615a353b24"
      },
      "execution_count": 11,
      "outputs": [
        {
          "output_type": "stream",
          "name": "stdout",
          "text": [
            "Digite um número inteiro diferente de zero: 113\n",
            "O número 113 é primo.\n"
          ]
        }
      ]
    },
    {
      "cell_type": "code",
      "source": [],
      "metadata": {
        "id": "Y3Xf7u_QNZFT"
      },
      "execution_count": null,
      "outputs": []
    }
  ]
}