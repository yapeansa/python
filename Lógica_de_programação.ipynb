{
  "nbformat": 4,
  "nbformat_minor": 0,
  "metadata": {
    "colab": {
      "provenance": [],
      "collapsed_sections": [
        "Y4lZri2iDGNR",
        "bf5mEtYLGfOG",
        "FU2EWW-F5umW",
        "rT5hIuLR6giW",
        "4UcovtNb94_B",
        "KlA0nRfp_K0w",
        "9EI9AZli_6mJ",
        "nTtxLabcK8wO",
        "wlPCpuBC9LzH",
        "bKsgwwuL_8PY"
      ],
      "authorship_tag": "ABX9TyMpCDFVSQr+IRT0fjtAZTu9"
    },
    "kernelspec": {
      "name": "python3",
      "display_name": "Python 3"
    },
    "language_info": {
      "name": "python"
    }
  },
  "cells": [
    {
      "cell_type": "markdown",
      "source": [
        "## Lógica de programação com Python"
      ],
      "metadata": {
        "id": "Y4lZri2iDGNR"
      }
    },
    {
      "cell_type": "code",
      "execution_count": null,
      "metadata": {
        "id": "GbGpX17c9Ck1"
      },
      "outputs": [],
      "source": [
        "nome = \"Yago\""
      ]
    },
    {
      "cell_type": "code",
      "source": [
        "nome"
      ],
      "metadata": {
        "colab": {
          "base_uri": "https://localhost:8080/",
          "height": 35
        },
        "id": "PPBy_LRoDJJl",
        "outputId": "37ef9d81-ac67-4396-b9fb-01ee0f9b651e"
      },
      "execution_count": null,
      "outputs": [
        {
          "output_type": "execute_result",
          "data": {
            "text/plain": [
              "'Yago'"
            ],
            "application/vnd.google.colaboratory.intrinsic+json": {
              "type": "string"
            }
          },
          "metadata": {},
          "execution_count": 14
        }
      ]
    },
    {
      "cell_type": "code",
      "source": [
        "idade = 29"
      ],
      "metadata": {
        "id": "_VR0bqceERI1"
      },
      "execution_count": null,
      "outputs": []
    },
    {
      "cell_type": "code",
      "source": [
        "idade"
      ],
      "metadata": {
        "colab": {
          "base_uri": "https://localhost:8080/"
        },
        "id": "rHJCmNA4EThO",
        "outputId": "11ee262d-602d-4145-8a54-4eb61edf56d9"
      },
      "execution_count": null,
      "outputs": [
        {
          "output_type": "execute_result",
          "data": {
            "text/plain": [
              "29"
            ]
          },
          "metadata": {},
          "execution_count": 16
        }
      ]
    },
    {
      "cell_type": "code",
      "source": [
        "print(f'O nome é {nome} e a idade é {idade}.')"
      ],
      "metadata": {
        "colab": {
          "base_uri": "https://localhost:8080/"
        },
        "id": "l8KmlNmpEaup",
        "outputId": "03ce65af-8389-422c-a202-9b019dc18dda"
      },
      "execution_count": null,
      "outputs": [
        {
          "output_type": "stream",
          "name": "stdout",
          "text": [
            "O nome é Yago e a idade é 29.\n"
          ]
        }
      ]
    },
    {
      "cell_type": "markdown",
      "source": [
        "## Criando minha primeira função"
      ],
      "metadata": {
        "id": "bf5mEtYLGfOG"
      }
    },
    {
      "cell_type": "code",
      "source": [
        "def saudacao():\n",
        "  nome = input('Qual é o seu nome? ')\n",
        "  print(f'Olá, {nome}.')"
      ],
      "metadata": {
        "id": "RagOh_bEGvoX"
      },
      "execution_count": null,
      "outputs": []
    },
    {
      "cell_type": "code",
      "source": [
        "saudacao()"
      ],
      "metadata": {
        "colab": {
          "base_uri": "https://localhost:8080/"
        },
        "id": "SaisR4dkHnXX",
        "outputId": "14bb2a24-e263-43c2-a17b-37d5bb8b11bb"
      },
      "execution_count": null,
      "outputs": [
        {
          "output_type": "stream",
          "name": "stdout",
          "text": [
            "Qual é o seu nome? Yago\n",
            "Olá, Yago.\n"
          ]
        }
      ]
    },
    {
      "cell_type": "code",
      "source": [
        "def nome_completo():\n",
        "  primeiro_nome = input('Qual é o seu primeiro nome? ')\n",
        "  sobrenome = input('Qual é o seu sobrenome? ')\n",
        "  nome_inteiro = primeiro_nome + ' ' + sobrenome\n",
        "  print(nome_inteiro)"
      ],
      "metadata": {
        "id": "kuPwmX3EH-RG"
      },
      "execution_count": null,
      "outputs": []
    },
    {
      "cell_type": "code",
      "source": [
        "nome_completo()"
      ],
      "metadata": {
        "colab": {
          "base_uri": "https://localhost:8080/"
        },
        "id": "6tY7Y7gkPIJz",
        "outputId": "f389f3b9-f35d-48b4-ce86-1179a2ec87c4"
      },
      "execution_count": null,
      "outputs": [
        {
          "output_type": "stream",
          "name": "stdout",
          "text": [
            "Qual é o seu primeiro nome? Yago\n",
            "Qual é o seu sobrenome? Pereira\n",
            "Yago Pereira\n"
          ]
        }
      ]
    },
    {
      "cell_type": "markdown",
      "source": [
        "## Parâmetros"
      ],
      "metadata": {
        "id": "FU2EWW-F5umW"
      }
    },
    {
      "cell_type": "code",
      "source": [
        "nome = 'Luiza'"
      ],
      "metadata": {
        "id": "vT-Xu0cWPKKl"
      },
      "execution_count": null,
      "outputs": []
    },
    {
      "cell_type": "code",
      "source": [
        "def saudacao_com_parametros(nome_da_pessoa):\n",
        "  print(f'Olá, {nome_da_pessoa}')"
      ],
      "metadata": {
        "id": "vuGsFxXZ49uu"
      },
      "execution_count": null,
      "outputs": []
    },
    {
      "cell_type": "code",
      "source": [
        "saudacao_com_parametros(nome)"
      ],
      "metadata": {
        "colab": {
          "base_uri": "https://localhost:8080/"
        },
        "id": "xa82d7sI5jQ4",
        "outputId": "149e631f-4d6c-4181-c1f9-cb2b28096727"
      },
      "execution_count": null,
      "outputs": [
        {
          "output_type": "stream",
          "name": "stdout",
          "text": [
            "Olá, Luiza\n"
          ]
        }
      ]
    },
    {
      "cell_type": "markdown",
      "source": [
        "## Condicional"
      ],
      "metadata": {
        "id": "rT5hIuLR6giW"
      }
    },
    {
      "cell_type": "code",
      "source": [
        "idade = 20\n",
        "\n",
        "def verifica_se_pode_dirigir(idade):\n",
        "  if idade >= 18:\n",
        "    print('Tem permissão para dirigir.')\n",
        "  else:\n",
        "    print('Não tem permissão para dirigir.')\n",
        "\n",
        "verifica_se_pode_dirigir(idade)"
      ],
      "metadata": {
        "colab": {
          "base_uri": "https://localhost:8080/"
        },
        "id": "eNjtk3_m6ihZ",
        "outputId": "de91d7d9-9b47-4a24-fdd4-56f62d6b007a"
      },
      "execution_count": null,
      "outputs": [
        {
          "output_type": "stream",
          "name": "stdout",
          "text": [
            "Tem permissão para dirigir.\n"
          ]
        }
      ]
    },
    {
      "cell_type": "markdown",
      "source": [
        "## Convertendo tipo para inteiro"
      ],
      "metadata": {
        "id": "4UcovtNb94_B"
      }
    },
    {
      "cell_type": "code",
      "source": [
        "def verifica_se_pode_dirigir_sem_parametros():\n",
        "  idade = input('Qual é a sua idade? ')\n",
        "  idade = int(idade)\n",
        "  if idade >= 18:\n",
        "    print('Tem permissão para dirigir.')\n",
        "  else:\n",
        "    print('Não tem permissão para dirigir.')\n",
        "\n",
        "verifica_se_pode_dirigir_sem_parametros()"
      ],
      "metadata": {
        "colab": {
          "base_uri": "https://localhost:8080/"
        },
        "id": "zj4egpuy7DGa",
        "outputId": "c3f83c99-2f9d-4209-afbd-95ea0585902c"
      },
      "execution_count": null,
      "outputs": [
        {
          "output_type": "stream",
          "name": "stdout",
          "text": [
            "Qual é a sua idade? 12\n",
            "Não tem permissão para dirigir.\n"
          ]
        }
      ]
    },
    {
      "cell_type": "markdown",
      "source": [
        "## Calculando velocidade média"
      ],
      "metadata": {
        "id": "KlA0nRfp_K0w"
      }
    },
    {
      "cell_type": "code",
      "source": [
        "def velocidade(espaco, tempo):\n",
        "  v = espaco / tempo\n",
        "  print(f'Velocidade : {v} m / s')\n",
        "\n",
        "velocidade(100, 20)"
      ],
      "metadata": {
        "colab": {
          "base_uri": "https://localhost:8080/"
        },
        "id": "xpYO7zRH9Wfk",
        "outputId": "ec97ae49-6394-4f7f-e1fc-d5b1da875768"
      },
      "execution_count": null,
      "outputs": [
        {
          "output_type": "stream",
          "name": "stdout",
          "text": [
            "Velocidade : 5.0 m / s\n"
          ]
        }
      ]
    },
    {
      "cell_type": "markdown",
      "source": [
        "## Habilitação e TypeError"
      ],
      "metadata": {
        "id": "9EI9AZli_6mJ"
      }
    },
    {
      "cell_type": "code",
      "source": [
        "def habilitacao():\n",
        "  idade = input('Qual é a sua idade? ')\n",
        "  idade = int(idade)\n",
        "  if idade >= 18:\n",
        "    print('Pode tirar habilitação.')\n",
        "  else:\n",
        "    tempo = 18 - idade\n",
        "    print(f'Calma... Espere {tempo} ano(s) para tirar a habilitação.')\n",
        "\n",
        "habilitacao()"
      ],
      "metadata": {
        "colab": {
          "base_uri": "https://localhost:8080/"
        },
        "id": "Boq2_HZ9__O8",
        "outputId": "162edf00-33b8-4278-c297-7832bfad031c"
      },
      "execution_count": null,
      "outputs": [
        {
          "output_type": "stream",
          "name": "stdout",
          "text": [
            "Qual é a sua idade? 12\n",
            "Calma... Espere 6 ano(s) para tirar a habilitação.\n"
          ]
        }
      ]
    },
    {
      "cell_type": "markdown",
      "source": [
        "## Verifica se um número é primo"
      ],
      "metadata": {
        "id": "nTtxLabcK8wO"
      }
    },
    {
      "cell_type": "code",
      "source": [
        "def numero_e_primo(numero):\n",
        "  # Variável de controle\n",
        "  teste = True\n",
        "  # Por definição, o número 1 não é primo\n",
        "  if numero == 1:\n",
        "    teste = False\n",
        "  # Armazena o valor absoluto da variável numero na variável n e converte este valor para inteiro\n",
        "  # Verifica se n possui algum divisor entre 2 e n-1\n",
        "  for i in range(2, numero):\n",
        "    if numero % i == 0:\n",
        "      teste = False\n",
        "  # Retorna o resultado: Verdadeiro ou Falso\n",
        "  return teste\n",
        "\n",
        "while True:\n",
        "  entrada = input('Digite um número inteiro positivo: ')\n",
        "  entrada = int(entrada)\n",
        "  if entrada >= 1: break # Encerra a iteração caso entrada seja positiva\n",
        "\n",
        "if numero_e_primo(entrada):\n",
        "  print(f'O número {entrada} é primo.')\n",
        "else:\n",
        "  print(f'O número {entrada} não é primo')\n"
      ],
      "metadata": {
        "id": "5EPMA0eXCW75",
        "colab": {
          "base_uri": "https://localhost:8080/"
        },
        "outputId": "d4833385-76ca-4070-913e-97256576ee9b"
      },
      "execution_count": null,
      "outputs": [
        {
          "output_type": "stream",
          "name": "stdout",
          "text": [
            "Digite um número inteiro positivo: 23\n",
            "O número 23 é primo.\n"
          ]
        }
      ]
    },
    {
      "cell_type": "code",
      "source": [],
      "metadata": {
        "id": "Y3Xf7u_QNZFT"
      },
      "execution_count": null,
      "outputs": []
    },
    {
      "cell_type": "markdown",
      "source": [
        "## Lista"
      ],
      "metadata": {
        "id": "wlPCpuBC9LzH"
      }
    },
    {
      "cell_type": "code",
      "source": [
        "idade = 29\n",
        "idade"
      ],
      "metadata": {
        "colab": {
          "base_uri": "https://localhost:8080/"
        },
        "id": "rFXsGGfQ9Ofc",
        "outputId": "2790e9f9-6d5e-4f09-aeef-50865b77d4ae"
      },
      "execution_count": 1,
      "outputs": [
        {
          "output_type": "execute_result",
          "data": {
            "text/plain": [
              "29"
            ]
          },
          "metadata": {},
          "execution_count": 1
        }
      ]
    },
    {
      "cell_type": "code",
      "source": [
        "type(idade)"
      ],
      "metadata": {
        "colab": {
          "base_uri": "https://localhost:8080/"
        },
        "id": "0ORU3UYK9T2i",
        "outputId": "38633459-cc26-4efd-f8d7-91aae603962b"
      },
      "execution_count": 2,
      "outputs": [
        {
          "output_type": "execute_result",
          "data": {
            "text/plain": [
              "int"
            ]
          },
          "metadata": {},
          "execution_count": 2
        }
      ]
    },
    {
      "cell_type": "code",
      "source": [
        "nome = 'Yago'\n",
        "type(nome)"
      ],
      "metadata": {
        "colab": {
          "base_uri": "https://localhost:8080/"
        },
        "id": "XnzjkZ8V9Ya8",
        "outputId": "ad63e167-27f3-4d0b-b670-744e52e31f5d"
      },
      "execution_count": 4,
      "outputs": [
        {
          "output_type": "execute_result",
          "data": {
            "text/plain": [
              "str"
            ]
          },
          "metadata": {},
          "execution_count": 4
        }
      ]
    },
    {
      "cell_type": "code",
      "source": [
        "idades = [18, 22, 15, 50]\n",
        "type(idades)"
      ],
      "metadata": {
        "colab": {
          "base_uri": "https://localhost:8080/"
        },
        "id": "BUHoespC9bFa",
        "outputId": "ed0f007e-4be1-4bfe-9027-753d5851def4"
      },
      "execution_count": 5,
      "outputs": [
        {
          "output_type": "execute_result",
          "data": {
            "text/plain": [
              "list"
            ]
          },
          "metadata": {},
          "execution_count": 5
        }
      ]
    },
    {
      "cell_type": "code",
      "source": [
        "idades[2]"
      ],
      "metadata": {
        "colab": {
          "base_uri": "https://localhost:8080/"
        },
        "id": "CSQ6QxsK9vVH",
        "outputId": "b0a39943-3dc8-466d-c5e7-5ba31df19571"
      },
      "execution_count": 6,
      "outputs": [
        {
          "output_type": "execute_result",
          "data": {
            "text/plain": [
              "15"
            ]
          },
          "metadata": {},
          "execution_count": 6
        }
      ]
    },
    {
      "cell_type": "code",
      "source": [
        "idades = [18, 22, 15, 50]\n",
        "#          0  1   2   3\n",
        "#          0 -3  -2  -1"
      ],
      "metadata": {
        "id": "47zp54aX96lU"
      },
      "execution_count": 12,
      "outputs": []
    },
    {
      "cell_type": "code",
      "source": [
        "idades[0:3]"
      ],
      "metadata": {
        "colab": {
          "base_uri": "https://localhost:8080/"
        },
        "id": "-6tcG8B0-Fh3",
        "outputId": "1717642d-02e5-4208-9ccf-7466fd98c40d"
      },
      "execution_count": 8,
      "outputs": [
        {
          "output_type": "execute_result",
          "data": {
            "text/plain": [
              "[18, 22, 15]"
            ]
          },
          "metadata": {},
          "execution_count": 8
        }
      ]
    },
    {
      "cell_type": "code",
      "source": [
        "idades[1:]"
      ],
      "metadata": {
        "colab": {
          "base_uri": "https://localhost:8080/"
        },
        "id": "F3bzhl3L-M3A",
        "outputId": "44b51672-6cd1-41b0-a1f9-28110b74744d"
      },
      "execution_count": 9,
      "outputs": [
        {
          "output_type": "execute_result",
          "data": {
            "text/plain": [
              "[22, 15, 50]"
            ]
          },
          "metadata": {},
          "execution_count": 9
        }
      ]
    },
    {
      "cell_type": "code",
      "source": [
        "idades[-1]"
      ],
      "metadata": {
        "colab": {
          "base_uri": "https://localhost:8080/"
        },
        "id": "E0TPW8UI-jMs",
        "outputId": "85987ac8-18b4-4530-b06b-78cbe4b7829d"
      },
      "execution_count": 10,
      "outputs": [
        {
          "output_type": "execute_result",
          "data": {
            "text/plain": [
              "50"
            ]
          },
          "metadata": {},
          "execution_count": 10
        }
      ]
    },
    {
      "cell_type": "markdown",
      "source": [
        "## Laços e Loops"
      ],
      "metadata": {
        "id": "bKsgwwuL_8PY"
      }
    },
    {
      "cell_type": "code",
      "source": [
        "idades"
      ],
      "metadata": {
        "colab": {
          "base_uri": "https://localhost:8080/"
        },
        "id": "VHZyi_UK-kpE",
        "outputId": "e6dc4670-3cf7-4633-863f-89c970a42d2c"
      },
      "execution_count": 13,
      "outputs": [
        {
          "output_type": "execute_result",
          "data": {
            "text/plain": [
              "[18, 22, 15, 50]"
            ]
          },
          "metadata": {},
          "execution_count": 13
        }
      ]
    },
    {
      "cell_type": "code",
      "source": [
        "# for fora da função\n",
        "\n",
        "def verifica_se_pode_dirigir(idade):\n",
        "  if idade >= 18:\n",
        "    print(f'{idade} anos de idade, TEM permissão para dirigir.')\n",
        "  else:\n",
        "    print(f'{idade} anos de idade, NÃO TEM permissão para dirigir.')\n",
        "\n",
        "for idade in idades:\n",
        "  verifica_se_pode_dirigir(idade)"
      ],
      "metadata": {
        "colab": {
          "base_uri": "https://localhost:8080/"
        },
        "id": "0L0o6Tl-APAl",
        "outputId": "5b89b591-38d0-4f6b-82cb-1cd8b18fd8b6"
      },
      "execution_count": 17,
      "outputs": [
        {
          "output_type": "stream",
          "name": "stdout",
          "text": [
            "18 anos de idade, TEM permissão para dirigir.\n",
            "22 anos de idade, TEM permissão para dirigir.\n",
            "15 anos de idade, NÃO TEM permissão para dirigir.\n",
            "50 anos de idade, TEM permissão para dirigir.\n"
          ]
        }
      ]
    },
    {
      "cell_type": "code",
      "source": [
        "def verifica_se_pode_dirigir(idades):\n",
        "  for idade in idades:\n",
        "    if idade >= 18:\n",
        "      print(f'{idade} anos de idade, TEM permissão para dirigir.')\n",
        "    else:\n",
        "      print(f'{idade} anos de idade, NÃO TEM permissão para dirigir.')\n",
        "\n",
        "verifica_se_pode_dirigir(idades)"
      ],
      "metadata": {
        "colab": {
          "base_uri": "https://localhost:8080/"
        },
        "id": "BnGJ_-GOAphT",
        "outputId": "8cd76979-c6f3-4ab8-f914-4c978a255972"
      },
      "execution_count": 16,
      "outputs": [
        {
          "output_type": "stream",
          "name": "stdout",
          "text": [
            "18 anos de idade, TEM permissão para dirigir.\n",
            "22 anos de idade, TEM permissão para dirigir.\n",
            "15 anos de idade, NÃO TEM permissão para dirigir.\n",
            "50 anos de idade, TEM permissão para dirigir.\n"
          ]
        }
      ]
    },
    {
      "cell_type": "code",
      "source": [],
      "metadata": {
        "id": "zar3WGQuBhIr"
      },
      "execution_count": null,
      "outputs": []
    },
    {
      "cell_type": "markdown",
      "source": [
        "## Booleano"
      ],
      "metadata": {
        "id": "uqVD-YQxCi7t"
      }
    },
    {
      "cell_type": "code",
      "source": [
        "idade = 18\n",
        "idade >= 18"
      ],
      "metadata": {
        "colab": {
          "base_uri": "https://localhost:8080/"
        },
        "id": "QKg925EICkiO",
        "outputId": "018ff756-a705-4a85-9296-5953a2363b74"
      },
      "execution_count": 18,
      "outputs": [
        {
          "output_type": "execute_result",
          "data": {
            "text/plain": [
              "True"
            ]
          },
          "metadata": {},
          "execution_count": 18
        }
      ]
    },
    {
      "cell_type": "code",
      "source": [
        "idade = 15\n",
        "idade >= 18"
      ],
      "metadata": {
        "colab": {
          "base_uri": "https://localhost:8080/"
        },
        "id": "FGBY54BQCurA",
        "outputId": "43a765e9-ee49-44c1-c5cb-4f7c81b88fa6"
      },
      "execution_count": 19,
      "outputs": [
        {
          "output_type": "execute_result",
          "data": {
            "text/plain": [
              "False"
            ]
          },
          "metadata": {},
          "execution_count": 19
        }
      ]
    },
    {
      "cell_type": "code",
      "source": [
        "permissoes = []\n",
        "idades = [20, 14, 40]\n",
        "\n",
        "def verifica_se_pode_dirigir(idades, permissoes):\n",
        "  for idade in idades:\n",
        "    if idade >= 18:\n",
        "      permissoes.append(True)\n",
        "    else:\n",
        "      permissoes.append(False)\n",
        "\n",
        "verifica_se_pode_dirigir(idades, permissoes)"
      ],
      "metadata": {
        "id": "oAUy-Xl6Cx9Z"
      },
      "execution_count": 20,
      "outputs": []
    },
    {
      "cell_type": "code",
      "source": [
        "permissoes"
      ],
      "metadata": {
        "colab": {
          "base_uri": "https://localhost:8080/"
        },
        "id": "DYn2zxUIDjBi",
        "outputId": "0270a147-41c3-46ab-f6e0-80e6d90c8d58"
      },
      "execution_count": 21,
      "outputs": [
        {
          "output_type": "execute_result",
          "data": {
            "text/plain": [
              "[True, False, True]"
            ]
          },
          "metadata": {},
          "execution_count": 21
        }
      ]
    },
    {
      "cell_type": "code",
      "source": [
        "for permissao in permissoes:\n",
        "  if permissao == True:\n",
        "    print('Tem permissão para dirigir.')\n",
        "  else:\n",
        "    print('Não tem permissão para dirigir.')"
      ],
      "metadata": {
        "colab": {
          "base_uri": "https://localhost:8080/"
        },
        "id": "TPq46FZwDl-d",
        "outputId": "026daed1-cce7-42ef-a6dc-76ae5ce7bca3"
      },
      "execution_count": 22,
      "outputs": [
        {
          "output_type": "stream",
          "name": "stdout",
          "text": [
            "Tem permissão para dirigir.\n",
            "Não tem permissão para dirigir.\n",
            "Tem permissão para dirigir.\n"
          ]
        }
      ]
    }
  ]
}